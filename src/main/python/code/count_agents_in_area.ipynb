{
 "cells": [
  {
   "cell_type": "code",
   "execution_count": 1,
   "metadata": {},
   "outputs": [
    {
     "name": "stderr",
     "output_type": "stream",
     "text": [
      "C:\\Users\\jdgoe\\AppData\\Local\\Temp\\ipykernel_11564\\79990429.py:1: DeprecationWarning: \n",
      "Pyarrow will become a required dependency of pandas in the next major release of pandas (pandas 3.0),\n",
      "(to allow more performant data types, such as the Arrow string type, and better interoperability with other libraries)\n",
      "but was not found to be installed on your system.\n",
      "If this would cause problems for you,\n",
      "please provide us feedback at https://github.com/pandas-dev/pandas/issues/54466\n",
      "        \n",
      "  import pandas as pd\n"
     ]
    }
   ],
   "source": [
    "import pandas as pd\n",
    "import geopandas as gpd\n",
    "import matsim"
   ]
  },
  {
   "cell_type": "markdown",
   "metadata": {},
   "source": [
    "First, read the network and identify the links that are inside the area"
   ]
  },
  {
   "cell_type": "code",
   "execution_count": 16,
   "metadata": {},
   "outputs": [
    {
     "data": {
      "text/html": [
       "<div>\n",
       "<style scoped>\n",
       "    .dataframe tbody tr th:only-of-type {\n",
       "        vertical-align: middle;\n",
       "    }\n",
       "\n",
       "    .dataframe tbody tr th {\n",
       "        vertical-align: top;\n",
       "    }\n",
       "\n",
       "    .dataframe thead th {\n",
       "        text-align: right;\n",
       "    }\n",
       "</style>\n",
       "<table border=\"1\" class=\"dataframe\">\n",
       "  <thead>\n",
       "    <tr style=\"text-align: right;\">\n",
       "      <th></th>\n",
       "      <th>length</th>\n",
       "      <th>freespeed</th>\n",
       "      <th>capacity</th>\n",
       "      <th>permlanes</th>\n",
       "      <th>oneway</th>\n",
       "      <th>modes</th>\n",
       "      <th>link_id</th>\n",
       "      <th>from_node</th>\n",
       "      <th>to_node</th>\n",
       "      <th>geometry</th>\n",
       "    </tr>\n",
       "  </thead>\n",
       "  <tbody>\n",
       "    <tr>\n",
       "      <th>0</th>\n",
       "      <td>31.467991</td>\n",
       "      <td>4.166667</td>\n",
       "      <td>1200.0</td>\n",
       "      <td>1.0</td>\n",
       "      <td>1</td>\n",
       "      <td>freight,ride,car</td>\n",
       "      <td>1</td>\n",
       "      <td>4864982246</td>\n",
       "      <td>262215600</td>\n",
       "      <td>LINESTRING (801882.202 5830925.583, 801909.558...</td>\n",
       "    </tr>\n",
       "    <tr>\n",
       "      <th>1</th>\n",
       "      <td>97.996533</td>\n",
       "      <td>6.944444</td>\n",
       "      <td>3200.0</td>\n",
       "      <td>2.0</td>\n",
       "      <td>1</td>\n",
       "      <td>freight,ride,car</td>\n",
       "      <td>10</td>\n",
       "      <td>26703746</td>\n",
       "      <td>2951553394</td>\n",
       "      <td>LINESTRING (796785.351 5828823.643, 796871.542...</td>\n",
       "    </tr>\n",
       "    <tr>\n",
       "      <th>2</th>\n",
       "      <td>71.196902</td>\n",
       "      <td>2.777778</td>\n",
       "      <td>600.0</td>\n",
       "      <td>1.0</td>\n",
       "      <td>1</td>\n",
       "      <td>freight,ride,car</td>\n",
       "      <td>100</td>\n",
       "      <td>27318315</td>\n",
       "      <td>587724650</td>\n",
       "      <td>LINESTRING (781257.548 5812115.380, 781269.074...</td>\n",
       "    </tr>\n",
       "    <tr>\n",
       "      <th>3</th>\n",
       "      <td>17.031152</td>\n",
       "      <td>4.166667</td>\n",
       "      <td>1200.0</td>\n",
       "      <td>1.0</td>\n",
       "      <td>1</td>\n",
       "      <td>freight,ride,car</td>\n",
       "      <td>1000</td>\n",
       "      <td>29690627</td>\n",
       "      <td>29690626</td>\n",
       "      <td>LINESTRING (793484.123 5832663.017, 793493.176...</td>\n",
       "    </tr>\n",
       "    <tr>\n",
       "      <th>4</th>\n",
       "      <td>27.555616</td>\n",
       "      <td>6.944444</td>\n",
       "      <td>1800.0</td>\n",
       "      <td>1.5</td>\n",
       "      <td>1</td>\n",
       "      <td>freight,ride,car</td>\n",
       "      <td>10000</td>\n",
       "      <td>1106607970</td>\n",
       "      <td>36265803</td>\n",
       "      <td>LINESTRING (846334.221 5811290.686, 846310.802...</td>\n",
       "    </tr>\n",
       "    <tr>\n",
       "      <th>...</th>\n",
       "      <td>...</td>\n",
       "      <td>...</td>\n",
       "      <td>...</td>\n",
       "      <td>...</td>\n",
       "      <td>...</td>\n",
       "      <td>...</td>\n",
       "      <td>...</td>\n",
       "      <td>...</td>\n",
       "      <td>...</td>\n",
       "      <td>...</td>\n",
       "    </tr>\n",
       "    <tr>\n",
       "      <th>202934</th>\n",
       "      <td>354.868966</td>\n",
       "      <td>12.236861</td>\n",
       "      <td>100000.0</td>\n",
       "      <td>1.0</td>\n",
       "      <td>1</td>\n",
       "      <td>pt</td>\n",
       "      <td>pt_9995</td>\n",
       "      <td>pt_500000065901</td>\n",
       "      <td>pt_500000087401</td>\n",
       "      <td>LINESTRING (825628.437 5917191.910, 825971.759...</td>\n",
       "    </tr>\n",
       "    <tr>\n",
       "      <th>202935</th>\n",
       "      <td>1353.018128</td>\n",
       "      <td>9.080659</td>\n",
       "      <td>100000.0</td>\n",
       "      <td>1.0</td>\n",
       "      <td>1</td>\n",
       "      <td>pt</td>\n",
       "      <td>pt_9996</td>\n",
       "      <td>pt_500000087401</td>\n",
       "      <td>pt_500000086501</td>\n",
       "      <td>LINESTRING (825971.759 5917101.132, 827256.751...</td>\n",
       "    </tr>\n",
       "    <tr>\n",
       "      <th>202936</th>\n",
       "      <td>1689.217448</td>\n",
       "      <td>8.082380</td>\n",
       "      <td>100000.0</td>\n",
       "      <td>1.0</td>\n",
       "      <td>1</td>\n",
       "      <td>pt</td>\n",
       "      <td>pt_9997</td>\n",
       "      <td>pt_500000086501</td>\n",
       "      <td>pt_500000086601</td>\n",
       "      <td>LINESTRING (827256.751 5916674.443, 828269.225...</td>\n",
       "    </tr>\n",
       "    <tr>\n",
       "      <th>202937</th>\n",
       "      <td>1600.265408</td>\n",
       "      <td>7.656772</td>\n",
       "      <td>100000.0</td>\n",
       "      <td>1.0</td>\n",
       "      <td>1</td>\n",
       "      <td>pt</td>\n",
       "      <td>pt_9998</td>\n",
       "      <td>pt_500000086601</td>\n",
       "      <td>pt_500000083701</td>\n",
       "      <td>LINESTRING (828269.225 5915320.761, 828775.804...</td>\n",
       "    </tr>\n",
       "    <tr>\n",
       "      <th>202938</th>\n",
       "      <td>1848.365387</td>\n",
       "      <td>20.768150</td>\n",
       "      <td>100000.0</td>\n",
       "      <td>1.0</td>\n",
       "      <td>1</td>\n",
       "      <td>pt</td>\n",
       "      <td>pt_9999</td>\n",
       "      <td>pt_500000083701</td>\n",
       "      <td>pt_500000086701</td>\n",
       "      <td>LINESTRING (828775.804 5913801.573, 826987.825...</td>\n",
       "    </tr>\n",
       "  </tbody>\n",
       "</table>\n",
       "<p>202939 rows × 10 columns</p>\n",
       "</div>"
      ],
      "text/plain": [
       "             length  freespeed  capacity  permlanes oneway             modes  \\\n",
       "0         31.467991   4.166667    1200.0        1.0      1  freight,ride,car   \n",
       "1         97.996533   6.944444    3200.0        2.0      1  freight,ride,car   \n",
       "2         71.196902   2.777778     600.0        1.0      1  freight,ride,car   \n",
       "3         17.031152   4.166667    1200.0        1.0      1  freight,ride,car   \n",
       "4         27.555616   6.944444    1800.0        1.5      1  freight,ride,car   \n",
       "...             ...        ...       ...        ...    ...               ...   \n",
       "202934   354.868966  12.236861  100000.0        1.0      1                pt   \n",
       "202935  1353.018128   9.080659  100000.0        1.0      1                pt   \n",
       "202936  1689.217448   8.082380  100000.0        1.0      1                pt   \n",
       "202937  1600.265408   7.656772  100000.0        1.0      1                pt   \n",
       "202938  1848.365387  20.768150  100000.0        1.0      1                pt   \n",
       "\n",
       "        link_id        from_node          to_node  \\\n",
       "0             1       4864982246        262215600   \n",
       "1            10         26703746       2951553394   \n",
       "2           100         27318315        587724650   \n",
       "3          1000         29690627         29690626   \n",
       "4         10000       1106607970         36265803   \n",
       "...         ...              ...              ...   \n",
       "202934  pt_9995  pt_500000065901  pt_500000087401   \n",
       "202935  pt_9996  pt_500000087401  pt_500000086501   \n",
       "202936  pt_9997  pt_500000086501  pt_500000086601   \n",
       "202937  pt_9998  pt_500000086601  pt_500000083701   \n",
       "202938  pt_9999  pt_500000083701  pt_500000086701   \n",
       "\n",
       "                                                 geometry  \n",
       "0       LINESTRING (801882.202 5830925.583, 801909.558...  \n",
       "1       LINESTRING (796785.351 5828823.643, 796871.542...  \n",
       "2       LINESTRING (781257.548 5812115.380, 781269.074...  \n",
       "3       LINESTRING (793484.123 5832663.017, 793493.176...  \n",
       "4       LINESTRING (846334.221 5811290.686, 846310.802...  \n",
       "...                                                   ...  \n",
       "202934  LINESTRING (825628.437 5917191.910, 825971.759...  \n",
       "202935  LINESTRING (825971.759 5917101.132, 827256.751...  \n",
       "202936  LINESTRING (827256.751 5916674.443, 828269.225...  \n",
       "202937  LINESTRING (828269.225 5915320.761, 828775.804...  \n",
       "202938  LINESTRING (828775.804 5913801.573, 826987.825...  \n",
       "\n",
       "[202939 rows x 10 columns]"
      ]
     },
     "execution_count": 16,
     "metadata": {},
     "output_type": "execute_result"
    }
   ],
   "source": [
    "network: gpd.GeoDataFrame = (matsim.read_network(\"../../../../output/berlin-v6.0-1pct/berlin-v6.0.output_network.xml.gz\")\n",
    "          .as_geo()\n",
    "          )\n",
    "area = gpd.read_file(\"../../../../input/shp/sbahn-ring.shp\")[[\"NO\", \"geometry\"]]\n",
    "network"
   ]
  },
  {
   "cell_type": "code",
   "execution_count": 35,
   "metadata": {},
   "outputs": [],
   "source": [
    "network_intersected = network.sjoin(\n",
    "    area, how=\"left\", predicate=\"within\"\n",
    ").assign(in_area = lambda row: row[\"NO\"] == 0)[[\"link_id\", \"in_area\"]]\n",
    "all_links_in_area = list(network_intersected.query(\"in_area == True\")[\"link_id\"])"
   ]
  },
  {
   "cell_type": "code",
   "execution_count": 39,
   "metadata": {},
   "outputs": [
    {
     "name": "stdout",
     "output_type": "stream",
     "text": [
      "29215\n"
     ]
    }
   ],
   "source": [
    "# This runs for an hour!\n",
    "events = matsim.event_reader(\"../../../../output/berlin-v6.0-1pct/berlin-v6.0.output_events.xml.gz\")\n",
    "vehicles_tolled = []\n",
    "for event in events:\n",
    "    if event[\"type\"] == \"entered link\" and event[\"link\"] in all_links_in_area:\n",
    "        vehicles_tolled.append(event[\"vehicle\"])\n",
    "unique_vehicles_tolled = set(vehicles_tolled)\n",
    "print(len(unique_vehicles_tolled))\n"
   ]
  },
  {
   "cell_type": "markdown",
   "metadata": {},
   "source": [
    "Result: 29215, including pt!"
   ]
  },
  {
   "cell_type": "markdown",
   "metadata": {},
   "source": [
    "Now find out of which types those vehicles are"
   ]
  },
  {
   "cell_type": "code",
   "execution_count": 53,
   "metadata": {},
   "outputs": [
    {
     "data": {
      "text/plain": [
       "type\n",
       "car        6395\n",
       "freight     888\n",
       "Name: count, dtype: int64"
      ]
     },
     "execution_count": 53,
     "metadata": {},
     "output_type": "execute_result"
    }
   ],
   "source": [
    "all_vehicles = matsim.vehicle_reader(\"../../../../output/berlin-v6.0-1pct/berlin-v6.0.output_vehicles.xml.gz\").vehicles\n",
    "\n",
    "df_tolled_vehicles = (pd.DataFrame(data={\"id\": list(unique_vehicles_tolled)})\n",
    "                      .merge(all_vehicles, on=\"id\", how=\"left\")\n",
    "                      )\n",
    "df_tolled_vehicles = df_tolled_vehicles[~df_tolled_vehicles[\"id\"].str.startswith(\"pt\")]\n",
    "df_tolled_vehicles[\"type\"].value_counts()\n"
   ]
  },
  {
   "cell_type": "markdown",
   "metadata": {},
   "source": [
    "car: 6395\\\n",
    "freight: 888\\\n",
    "total: 7283"
   ]
  },
  {
   "cell_type": "markdown",
   "metadata": {},
   "source": [
    "In Ihab's Berlin scenario, the agents paid a total toll of ca. 2M EUR, upscaled to 100%\\\n",
    "When we say we have approx. 7300 cars tolled, the resulting price should be $2000000 EUR/7300*100=2,74 EUR$"
   ]
  }
 ],
 "metadata": {
  "kernelspec": {
   "display_name": ".venv",
   "language": "python",
   "name": "python3"
  },
  "language_info": {
   "codemirror_mode": {
    "name": "ipython",
    "version": 3
   },
   "file_extension": ".py",
   "mimetype": "text/x-python",
   "name": "python",
   "nbconvert_exporter": "python",
   "pygments_lexer": "ipython3",
   "version": "3.10.4"
  }
 },
 "nbformat": 4,
 "nbformat_minor": 2
}
