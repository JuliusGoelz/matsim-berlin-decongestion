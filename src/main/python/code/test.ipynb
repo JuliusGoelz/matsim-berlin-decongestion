{
 "cells": [
  {
   "cell_type": "code",
   "execution_count": 1,
   "metadata": {},
   "outputs": [
    {
     "ename": "IndexError",
     "evalue": "list index out of range",
     "output_type": "error",
     "traceback": [
      "\u001b[1;31m---------------------------------------------------------------------------\u001b[0m",
      "\u001b[1;31mIndexError\u001b[0m                                Traceback (most recent call last)",
      "Cell \u001b[1;32mIn[1], line 39\u001b[0m\n\u001b[0;32m     37\u001b[0m \u001b[38;5;66;03m# args: paths to [base case, decongestion, roadpricing]\u001b[39;00m\n\u001b[0;32m     38\u001b[0m path_network \u001b[38;5;241m=\u001b[39m sys\u001b[38;5;241m.\u001b[39margv[\u001b[38;5;241m1\u001b[39m]\n\u001b[1;32m---> 39\u001b[0m path_output_basecase \u001b[38;5;241m=\u001b[39m \u001b[43msys\u001b[49m\u001b[38;5;241;43m.\u001b[39;49m\u001b[43margv\u001b[49m\u001b[43m[\u001b[49m\u001b[38;5;241;43m2\u001b[39;49m\u001b[43m]\u001b[49m\n\u001b[0;32m     40\u001b[0m \u001b[38;5;28;01mif\u001b[39;00m \u001b[38;5;129;01mnot\u001b[39;00m path_output_basecase\u001b[38;5;241m.\u001b[39mendswith(\u001b[38;5;124m\"\u001b[39m\u001b[38;5;124m/\u001b[39m\u001b[38;5;124m\"\u001b[39m): path_output_basecase \u001b[38;5;241m+\u001b[39m\u001b[38;5;241m=\u001b[39m \u001b[38;5;124m\"\u001b[39m\u001b[38;5;124m/\u001b[39m\u001b[38;5;124m\"\u001b[39m\n\u001b[0;32m     41\u001b[0m path_output_decongestion \u001b[38;5;241m=\u001b[39m sys\u001b[38;5;241m.\u001b[39margv[\u001b[38;5;241m3\u001b[39m]\n",
      "\u001b[1;31mIndexError\u001b[0m: list index out of range"
     ]
    }
   ],
   "source": [
    "# Read necessary output files, compute delays per (car/ride/freight) agent and trip and output the results\n",
    "\n",
    "import sys\n",
    "import matsim\n",
    "import pandas as pd\n",
    "import geopandas as gpd\n",
    "\n",
    "def get_link_total_delays(\n",
    "    link_delays: pd.DataFrame, network: pd.DataFrame\n",
    ") -> pd.DataFrame:\n",
    "    return (\n",
    "        link_delays.merge(network, how=\"left\", on=\"link_id\")\n",
    "        .assign(\n",
    "            total_delays=lambda row: (\n",
    "                (\n",
    "                    row[\"lane_km\"] * 1000 / row[\"freespeed\"]\n",
    "                    - row[\"lane_km\"] * 1000 / row[\"avg_speed\"]\n",
    "                )\n",
    "                * row[\"simulated_traffic_volume\"]\n",
    "            )\n",
    "        )\n",
    "        [\n",
    "            [\n",
    "                \"link_id\",\n",
    "                \"total_delays\",\n",
    "                \"avg_speed\",\n",
    "                \"congestion_index\",\n",
    "                \"speed_performance_index\",\n",
    "                \"simulated_traffic_volume\",\n",
    "                \"vol_freight\",\n",
    "                \"vol_car\",\n",
    "            ]\n",
    "        ]\n",
    "    )\n",
    "\n",
    "\n",
    "# args: paths to [base case, decongestion, roadpricing]\n",
    "path_network = sys.argv[1]\n",
    "path_output_basecase = sys.argv[2]\n",
    "if not path_output_basecase.endswith(\"/\"): path_output_basecase += \"/\"\n",
    "path_output_decongestion = sys.argv[3]\n",
    "if not path_output_decongestion.endswith(\"/\"): path_output_decongestion += \"/\"\n",
    "path_output_roadpricing = sys.argv[4]\n",
    "if not path_output_roadpricing.endswith(\"/\"): path_output_roadpricing += \"/\"\n",
    "\n",
    "# path_output_basecase = \"C:/Users/jdgoe/Documents/Uni/MATSimAdv Wise2324/matsim-berlin-decongestion/output/berlin-v6.0-1pct/\"\n",
    "\n",
    "all_paths = {\"basecase\": path_output_basecase,\n",
    "             \"withDecongestion\": path_output_decongestion,\n",
    "             \"withRoadpricing\": path_output_roadpricing}\n",
    "\n",
    "# read general files\n",
    "\n",
    "network = matsim.read_network(path_network)\n",
    "network_links = network.as_geo().copy()\n",
    "network_links[\"link_id\"] = network_links[\"link_id\"].apply(str)\n",
    "\n",
    "# prepare scenario comparison\n",
    "\n",
    "network_with_delays: gpd.GeoDataFrame = network_links.copy()\n",
    "\n",
    "# generate comparison data\n",
    "\n",
    "for (name, path) in all_paths.items():\n",
    "    link_delays = pd.read_csv(\n",
    "        path + \"analysis/traffic/traffic_stats_by_link_daily.csv\"\n",
    "    )\n",
    "    link_delays[\"link_id\"] = link_delays[\"link_id\"].apply(str)\n",
    "    delays = get_link_total_delays(link_delays, network_links)\n",
    "    network_with_delays = (network_with_delays\n",
    "                           .merge(delays, how=\"left\", on=\"link_id\", suffixes=[None, f\"_{name}\"]))"
   ]
  },
  {
   "cell_type": "code",
   "execution_count": null,
   "metadata": {},
   "outputs": [],
   "source": [
    "# save the network as gpkg and as csv\n",
    "\n",
    "network_with_delays.to_file(\"../output/network_with_delays.gpkg\")\n",
    "network_with_delays.drop(\"geometry\").to_csv(\"../output/link_delays.csv\")"
   ]
  },
  {
   "cell_type": "code",
   "execution_count": null,
   "metadata": {},
   "outputs": [],
   "source": [
    "# calculate total delays\n",
    "network_with_delays: pd.DataFrame\n",
    "\n",
    "total_delays: pd.DataFrame = (\n",
    "    network_with_delays\n",
    "    .agg(\n",
    "        {\"total_delays\": \"sum\",\n",
    "         \"total_delays_withDecongestion\": \"sum\",\n",
    "         \"total_delays_withRoadpricing\": \"sum\"}\n",
    "        )\n",
    "    .rename(columns={\"total_delays\": \"Basecase\", \"total_delays_withDecongestion\": \"Decongestion\", \"total_delays_withRoadpricing\": \"Roadpricing\"})\n",
    "    .melt(value_vars=[\"Basecase\", \"Decongestion\", \"Roadpricing\"],\n",
    "          var_name=\"scenario\", value_name=\"delays\")\n",
    "    )\n",
    "\n",
    "# save total delays\n",
    "\n",
    "total_delays.to_csv(\"../output/total_delays.csv\")\n"
   ]
  }
 ],
 "metadata": {
  "kernelspec": {
   "display_name": ".venv",
   "language": "python",
   "name": "python3"
  },
  "language_info": {
   "codemirror_mode": {
    "name": "ipython",
    "version": 3
   },
   "file_extension": ".py",
   "mimetype": "text/x-python",
   "name": "python",
   "nbconvert_exporter": "python",
   "pygments_lexer": "ipython3",
   "version": "3.10.4"
  },
  "orig_nbformat": 4
 },
 "nbformat": 4,
 "nbformat_minor": 2
}
